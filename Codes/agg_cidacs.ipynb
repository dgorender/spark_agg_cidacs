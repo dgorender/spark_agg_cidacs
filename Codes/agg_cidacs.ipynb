{
 "cells": [
  {
   "cell_type": "code",
   "execution_count": 1,
   "metadata": {},
   "outputs": [],
   "source": [
    "import random\n",
    "import pyspark.sql.functions as F"
   ]
  },
  {
   "cell_type": "code",
   "execution_count": 2,
   "metadata": {},
   "outputs": [],
   "source": [
    "nRegisters = 100000\n",
    "header = ['cod_estado', 'sexo', 'estado_civil']\n",
    "var = [[x,y,z] for x,y,z in  zip([random.choice(range(11,54)) for _ in range(nRegisters)], [random.choice(['F', 'M']) for _ in range(nRegisters)], [random.choice(['SOLTEIRO', 'CASADO', 'DIVORCIADO']) for _ in range(nRegisters)])]\n",
    "groupby_var = 'cod_estado'\n",
    "base_name = 'base1'\n",
    "df = spark.createDataFrame(var, header)"
   ]
  },
  {
   "cell_type": "code",
   "execution_count": 3,
   "metadata": {},
   "outputs": [
    {
     "name": "stdout",
     "output_type": "stream",
     "text": [
      "+----------+----+------------+\n",
      "|cod_estado|sexo|estado_civil|\n",
      "+----------+----+------------+\n",
      "|        27|   M|    SOLTEIRO|\n",
      "|        13|   F|  DIVORCIADO|\n",
      "|        11|   F|    SOLTEIRO|\n",
      "|        33|   F|  DIVORCIADO|\n",
      "|        14|   M|      CASADO|\n",
      "|        47|   F|  DIVORCIADO|\n",
      "|        42|   F|    SOLTEIRO|\n",
      "|        33|   M|      CASADO|\n",
      "|        39|   M|  DIVORCIADO|\n",
      "|        45|   M|  DIVORCIADO|\n",
      "|        16|   F|      CASADO|\n",
      "|        49|   F|    SOLTEIRO|\n",
      "|        45|   F|    SOLTEIRO|\n",
      "|        40|   M|      CASADO|\n",
      "|        30|   F|      CASADO|\n",
      "|        35|   F|    SOLTEIRO|\n",
      "|        33|   M|    SOLTEIRO|\n",
      "|        37|   M|    SOLTEIRO|\n",
      "|        53|   F|  DIVORCIADO|\n",
      "|        20|   M|      CASADO|\n",
      "+----------+----+------------+\n",
      "only showing top 20 rows\n",
      "\n"
     ]
    }
   ],
   "source": [
    "df.show()"
   ]
  },
  {
   "cell_type": "code",
   "execution_count": 4,
   "metadata": {},
   "outputs": [],
   "source": [
    "agg = df.groupby(header).count()\n",
    "agg_concat = agg.withColumn('agg_concat', F.concat_ws('_', *[x for x in header if x != groupby_var]))\n",
    "agg_concat = agg_concat.withColumn('agg_concat', F.concat_ws('_', F.lit(base_name), 'agg_concat'))"
   ]
  },
  {
   "cell_type": "code",
   "execution_count": 5,
   "metadata": {},
   "outputs": [
    {
     "name": "stdout",
     "output_type": "stream",
     "text": [
      "+----------+----+------------+-----+------------------+\n",
      "|cod_estado|sexo|estado_civil|count|        agg_concat|\n",
      "+----------+----+------------+-----+------------------+\n",
      "|        26|   F|      CASADO|  366|    base1_F_CASADO|\n",
      "|        40|   F|  DIVORCIADO|  387|base1_F_DIVORCIADO|\n",
      "|        22|   F|      CASADO|  380|    base1_F_CASADO|\n",
      "|        16|   F|  DIVORCIADO|  383|base1_F_DIVORCIADO|\n",
      "|        12|   F|      CASADO|  411|    base1_F_CASADO|\n",
      "|        37|   F|    SOLTEIRO|  427|  base1_F_SOLTEIRO|\n",
      "|        51|   F|      CASADO|  376|    base1_F_CASADO|\n",
      "|        48|   M|      CASADO|  364|    base1_M_CASADO|\n",
      "|        18|   F|    SOLTEIRO|  383|  base1_F_SOLTEIRO|\n",
      "|        14|   M|  DIVORCIADO|  360|base1_M_DIVORCIADO|\n",
      "|        41|   M|  DIVORCIADO|  360|base1_M_DIVORCIADO|\n",
      "|        37|   F|      CASADO|  391|    base1_F_CASADO|\n",
      "|        25|   M|  DIVORCIADO|  403|base1_M_DIVORCIADO|\n",
      "|        46|   F|  DIVORCIADO|  373|base1_F_DIVORCIADO|\n",
      "|        22|   M|  DIVORCIADO|  389|base1_M_DIVORCIADO|\n",
      "|        28|   M|      CASADO|  439|    base1_M_CASADO|\n",
      "|        40|   F|      CASADO|  371|    base1_F_CASADO|\n",
      "|        27|   M|  DIVORCIADO|  386|base1_M_DIVORCIADO|\n",
      "|        47|   F|  DIVORCIADO|  406|base1_F_DIVORCIADO|\n",
      "|        24|   M|      CASADO|  382|    base1_M_CASADO|\n",
      "+----------+----+------------+-----+------------------+\n",
      "only showing top 20 rows\n",
      "\n"
     ]
    }
   ],
   "source": [
    "agg_concat.show()"
   ]
  },
  {
   "cell_type": "code",
   "execution_count": 6,
   "metadata": {},
   "outputs": [],
   "source": [
    "result = agg_concat.groupby(groupby_var).pivot('agg_concat').sum('count').orderBy(groupby_var)"
   ]
  },
  {
   "cell_type": "code",
   "execution_count": 7,
   "metadata": {},
   "outputs": [
    {
     "name": "stdout",
     "output_type": "stream",
     "text": [
      "+----------+--------------+------------------+----------------+--------------+------------------+----------------+\n",
      "|cod_estado|base1_F_CASADO|base1_F_DIVORCIADO|base1_F_SOLTEIRO|base1_M_CASADO|base1_M_DIVORCIADO|base1_M_SOLTEIRO|\n",
      "+----------+--------------+------------------+----------------+--------------+------------------+----------------+\n",
      "|11        |375           |375               |356             |384           |369               |417             |\n",
      "|12        |411           |368               |384             |390           |369               |385             |\n",
      "|13        |396           |359               |380             |397           |396               |378             |\n",
      "|14        |369           |390               |391             |426           |360               |384             |\n",
      "|15        |370           |373               |411             |385           |332               |371             |\n",
      "|16        |362           |383               |336             |408           |374               |398             |\n",
      "|17        |394           |417               |419             |393           |380               |367             |\n",
      "|18        |390           |373               |383             |398           |397               |420             |\n",
      "|19        |407           |376               |383             |359           |362               |415             |\n",
      "|20        |347           |388               |422             |368           |387               |431             |\n",
      "|21        |407           |396               |397             |406           |391               |389             |\n",
      "|22        |380           |417               |392             |363           |389               |393             |\n",
      "|23        |375           |357               |414             |403           |393               |380             |\n",
      "|24        |385           |352               |408             |382           |403               |383             |\n",
      "|25        |386           |412               |377             |417           |403               |368             |\n",
      "|26        |366           |366               |361             |408           |409               |367             |\n",
      "|27        |385           |348               |414             |413           |386               |395             |\n",
      "|28        |367           |353               |401             |439           |381               |406             |\n",
      "|29        |391           |408               |362             |398           |358               |403             |\n",
      "|30        |392           |402               |382             |404           |386               |400             |\n",
      "|31        |405           |376               |374             |395           |367               |371             |\n",
      "|32        |399           |365               |348             |386           |389               |385             |\n",
      "|33        |411           |388               |406             |399           |419               |389             |\n",
      "|34        |396           |372               |389             |394           |390               |389             |\n",
      "|35        |382           |416               |406             |364           |413               |389             |\n",
      "|36        |389           |402               |392             |374           |394               |403             |\n",
      "|37        |391           |378               |427             |376           |383               |358             |\n",
      "|38        |401           |377               |403             |379           |400               |370             |\n",
      "|39        |382           |396               |358             |389           |375               |391             |\n",
      "|40        |371           |387               |373             |357           |402               |389             |\n",
      "|41        |363           |409               |408             |439           |360               |366             |\n",
      "|42        |382           |419               |403             |372           |396               |420             |\n",
      "|43        |368           |362               |382             |423           |382               |361             |\n",
      "|44        |351           |412               |393             |390           |390               |374             |\n",
      "|45        |405           |400               |372             |383           |410               |416             |\n",
      "|46        |375           |373               |380             |369           |386               |381             |\n",
      "|47        |365           |406               |401             |364           |395               |413             |\n",
      "|48        |407           |379               |393             |364           |365               |435             |\n",
      "|49        |417           |391               |390             |392           |387               |384             |\n",
      "|50        |412           |393               |351             |378           |396               |389             |\n",
      "|51        |376           |366               |399             |347           |377               |374             |\n",
      "|52        |396           |387               |403             |381           |394               |426             |\n",
      "|53        |397           |389               |404             |397           |366               |383             |\n",
      "+----------+--------------+------------------+----------------+--------------+------------------+----------------+\n",
      "\n"
     ]
    }
   ],
   "source": [
    "result.show(1000, False)"
   ]
  }
 ],
 "metadata": {
  "kernelspec": {
   "display_name": "Python 3",
   "language": "python",
   "name": "python3"
  },
  "language_info": {
   "codemirror_mode": {
    "name": "ipython",
    "version": 3
   },
   "file_extension": ".py",
   "mimetype": "text/x-python",
   "name": "python",
   "nbconvert_exporter": "python",
   "pygments_lexer": "ipython3",
   "version": "3.7.1"
  }
 },
 "nbformat": 4,
 "nbformat_minor": 2
}
